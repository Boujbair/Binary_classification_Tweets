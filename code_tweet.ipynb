{
 "cells": [
  {
   "cell_type": "markdown",
   "metadata": {},
   "source": [
    "# Import the required libraries"
   ]
  },
  {
   "cell_type": "code",
   "execution_count": 6,
   "metadata": {},
   "outputs": [],
   "source": [
    "import numpy as np \n",
    "import pandas as pd\n",
    "from tqdm import tqdm\n",
    "import re\n",
    "import matplotlib.pyplot as plt\n",
    "from sklearn.feature_extraction.text import TfidfTransformer\n",
    "from sklearn.metrics import roc_auc_score \n",
    "\n",
    "import seaborn as sns\n",
    "from sklearn.model_selection import train_test_split\n",
    "from sklearn.model_selection import StratifiedShuffleSplit\n",
    "from sklearn.linear_model import RidgeClassifier\n",
    "from sklearn.feature_extraction.text import CountVectorizer\n",
    "\n",
    "from warnings import filterwarnings\n",
    "from sklearn.model_selection import cross_validate\n",
    "\n",
    "from sklearn.pipeline import Pipeline"
   ]
  },
  {
   "cell_type": "markdown",
   "metadata": {},
   "source": [
    "# Import datasets"
   ]
  },
  {
   "cell_type": "code",
   "execution_count": 7,
   "metadata": {},
   "outputs": [
    {
     "data": {
      "text/html": [
       "<div>\n",
       "<style scoped>\n",
       "    .dataframe tbody tr th:only-of-type {\n",
       "        vertical-align: middle;\n",
       "    }\n",
       "\n",
       "    .dataframe tbody tr th {\n",
       "        vertical-align: top;\n",
       "    }\n",
       "\n",
       "    .dataframe thead th {\n",
       "        text-align: right;\n",
       "    }\n",
       "</style>\n",
       "<table border=\"1\" class=\"dataframe\">\n",
       "  <thead>\n",
       "    <tr style=\"text-align: right;\">\n",
       "      <th></th>\n",
       "      <th>TweetId</th>\n",
       "      <th>Label</th>\n",
       "      <th>TweetText</th>\n",
       "    </tr>\n",
       "  </thead>\n",
       "  <tbody>\n",
       "    <tr>\n",
       "      <th>0</th>\n",
       "      <td>304271250237304833</td>\n",
       "      <td>Politics</td>\n",
       "      <td>'#SecKerry: The value of the @StateDept and @U...</td>\n",
       "    </tr>\n",
       "    <tr>\n",
       "      <th>1</th>\n",
       "      <td>304834304222064640</td>\n",
       "      <td>Politics</td>\n",
       "      <td>'@rraina1481 I fear so'</td>\n",
       "    </tr>\n",
       "    <tr>\n",
       "      <th>2</th>\n",
       "      <td>303568995880144898</td>\n",
       "      <td>Sports</td>\n",
       "      <td>'Watch video highlights of the #wwc13 final be...</td>\n",
       "    </tr>\n",
       "    <tr>\n",
       "      <th>3</th>\n",
       "      <td>304366580664528896</td>\n",
       "      <td>Sports</td>\n",
       "      <td>'RT @chelscanlan: At Nitro Circus at #AlbertPa...</td>\n",
       "    </tr>\n",
       "    <tr>\n",
       "      <th>4</th>\n",
       "      <td>296770931098009601</td>\n",
       "      <td>Sports</td>\n",
       "      <td>'@cricketfox Always a good thing. Thanks for t...</td>\n",
       "    </tr>\n",
       "    <tr>\n",
       "      <th>...</th>\n",
       "      <td>...</td>\n",
       "      <td>...</td>\n",
       "      <td>...</td>\n",
       "    </tr>\n",
       "    <tr>\n",
       "      <th>6520</th>\n",
       "      <td>296675082267410433</td>\n",
       "      <td>Politics</td>\n",
       "      <td>'Photo: PM has laid a wreath at Martyrs Monume...</td>\n",
       "    </tr>\n",
       "    <tr>\n",
       "      <th>6521</th>\n",
       "      <td>306677536195231746</td>\n",
       "      <td>Sports</td>\n",
       "      <td>'The secret of the Chennai pitch - crumbling o...</td>\n",
       "    </tr>\n",
       "    <tr>\n",
       "      <th>6522</th>\n",
       "      <td>306451295307431937</td>\n",
       "      <td>Sports</td>\n",
       "      <td>@alinabhutto he isn't on Twitter either</td>\n",
       "    </tr>\n",
       "    <tr>\n",
       "      <th>6523</th>\n",
       "      <td>306088574221176832</td>\n",
       "      <td>Sports</td>\n",
       "      <td>'Which England player would you take out to di...</td>\n",
       "    </tr>\n",
       "    <tr>\n",
       "      <th>6524</th>\n",
       "      <td>277090953242759169</td>\n",
       "      <td>Politics</td>\n",
       "      <td>'Dmitry #Medvedev expressed condolences to the...</td>\n",
       "    </tr>\n",
       "  </tbody>\n",
       "</table>\n",
       "<p>6525 rows × 3 columns</p>\n",
       "</div>"
      ],
      "text/plain": [
       "                 TweetId     Label  \\\n",
       "0     304271250237304833  Politics   \n",
       "1     304834304222064640  Politics   \n",
       "2     303568995880144898    Sports   \n",
       "3     304366580664528896    Sports   \n",
       "4     296770931098009601    Sports   \n",
       "...                  ...       ...   \n",
       "6520  296675082267410433  Politics   \n",
       "6521  306677536195231746    Sports   \n",
       "6522  306451295307431937    Sports   \n",
       "6523  306088574221176832    Sports   \n",
       "6524  277090953242759169  Politics   \n",
       "\n",
       "                                              TweetText  \n",
       "0     '#SecKerry: The value of the @StateDept and @U...  \n",
       "1                               '@rraina1481 I fear so'  \n",
       "2     'Watch video highlights of the #wwc13 final be...  \n",
       "3     'RT @chelscanlan: At Nitro Circus at #AlbertPa...  \n",
       "4     '@cricketfox Always a good thing. Thanks for t...  \n",
       "...                                                 ...  \n",
       "6520  'Photo: PM has laid a wreath at Martyrs Monume...  \n",
       "6521  'The secret of the Chennai pitch - crumbling o...  \n",
       "6522            @alinabhutto he isn't on Twitter either  \n",
       "6523  'Which England player would you take out to di...  \n",
       "6524  'Dmitry #Medvedev expressed condolences to the...  \n",
       "\n",
       "[6525 rows x 3 columns]"
      ]
     },
     "execution_count": 7,
     "metadata": {},
     "output_type": "execute_result"
    }
   ],
   "source": [
    "train_dataset = pd.read_csv(\"../train.csv\")\n",
    "\n",
    "train_dataset"
   ]
  },
  {
   "cell_type": "code",
   "execution_count": 8,
   "metadata": {},
   "outputs": [
    {
     "data": {
      "text/html": [
       "<div>\n",
       "<style scoped>\n",
       "    .dataframe tbody tr th:only-of-type {\n",
       "        vertical-align: middle;\n",
       "    }\n",
       "\n",
       "    .dataframe tbody tr th {\n",
       "        vertical-align: top;\n",
       "    }\n",
       "\n",
       "    .dataframe thead th {\n",
       "        text-align: right;\n",
       "    }\n",
       "</style>\n",
       "<table border=\"1\" class=\"dataframe\">\n",
       "  <thead>\n",
       "    <tr style=\"text-align: right;\">\n",
       "      <th></th>\n",
       "      <th>TweetId</th>\n",
       "    </tr>\n",
       "  </thead>\n",
       "  <tbody>\n",
       "    <tr>\n",
       "      <th>count</th>\n",
       "      <td>6.525000e+03</td>\n",
       "    </tr>\n",
       "    <tr>\n",
       "      <th>mean</th>\n",
       "      <td>2.887131e+17</td>\n",
       "    </tr>\n",
       "    <tr>\n",
       "      <th>std</th>\n",
       "      <td>5.139819e+16</td>\n",
       "    </tr>\n",
       "    <tr>\n",
       "      <th>min</th>\n",
       "      <td>2.390931e+10</td>\n",
       "    </tr>\n",
       "    <tr>\n",
       "      <th>25%</th>\n",
       "      <td>2.941380e+17</td>\n",
       "    </tr>\n",
       "    <tr>\n",
       "      <th>50%</th>\n",
       "      <td>3.025319e+17</td>\n",
       "    </tr>\n",
       "    <tr>\n",
       "      <th>75%</th>\n",
       "      <td>3.053242e+17</td>\n",
       "    </tr>\n",
       "    <tr>\n",
       "      <th>max</th>\n",
       "      <td>3.068341e+17</td>\n",
       "    </tr>\n",
       "  </tbody>\n",
       "</table>\n",
       "</div>"
      ],
      "text/plain": [
       "            TweetId\n",
       "count  6.525000e+03\n",
       "mean   2.887131e+17\n",
       "std    5.139819e+16\n",
       "min    2.390931e+10\n",
       "25%    2.941380e+17\n",
       "50%    3.025319e+17\n",
       "75%    3.053242e+17\n",
       "max    3.068341e+17"
      ]
     },
     "execution_count": 8,
     "metadata": {},
     "output_type": "execute_result"
    }
   ],
   "source": [
    "train_dataset.describe()"
   ]
  },
  {
   "cell_type": "code",
   "execution_count": 9,
   "metadata": {},
   "outputs": [
    {
     "name": "stdout",
     "output_type": "stream",
     "text": [
      "<class 'pandas.core.frame.DataFrame'>\n",
      "RangeIndex: 6525 entries, 0 to 6524\n",
      "Data columns (total 3 columns):\n",
      " #   Column     Non-Null Count  Dtype \n",
      "---  ------     --------------  ----- \n",
      " 0   TweetId    6525 non-null   int64 \n",
      " 1   Label      6525 non-null   object\n",
      " 2   TweetText  6525 non-null   object\n",
      "dtypes: int64(1), object(2)\n",
      "memory usage: 153.1+ KB\n"
     ]
    }
   ],
   "source": [
    "train_dataset.info()"
   ]
  },
  {
   "cell_type": "code",
   "execution_count": 10,
   "metadata": {},
   "outputs": [
    {
     "data": {
      "text/html": [
       "<div>\n",
       "<style scoped>\n",
       "    .dataframe tbody tr th:only-of-type {\n",
       "        vertical-align: middle;\n",
       "    }\n",
       "\n",
       "    .dataframe tbody tr th {\n",
       "        vertical-align: top;\n",
       "    }\n",
       "\n",
       "    .dataframe thead th {\n",
       "        text-align: right;\n",
       "    }\n",
       "</style>\n",
       "<table border=\"1\" class=\"dataframe\">\n",
       "  <thead>\n",
       "    <tr style=\"text-align: right;\">\n",
       "      <th></th>\n",
       "      <th>TweetId</th>\n",
       "      <th>TweetText</th>\n",
       "    </tr>\n",
       "  </thead>\n",
       "  <tbody>\n",
       "    <tr>\n",
       "      <th>0</th>\n",
       "      <td>306486520121012224</td>\n",
       "      <td>'28. The home side threaten again through Maso...</td>\n",
       "    </tr>\n",
       "    <tr>\n",
       "      <th>1</th>\n",
       "      <td>286353402605228032</td>\n",
       "      <td>'@mrbrown @aulia Thx for asking. See http://t....</td>\n",
       "    </tr>\n",
       "    <tr>\n",
       "      <th>2</th>\n",
       "      <td>289531046037438464</td>\n",
       "      <td>'@Sochi2014 construction along the shores of t...</td>\n",
       "    </tr>\n",
       "    <tr>\n",
       "      <th>3</th>\n",
       "      <td>306451661403062273</td>\n",
       "      <td>'#SecKerry\\u2019s remarks after meeting with F...</td>\n",
       "    </tr>\n",
       "    <tr>\n",
       "      <th>4</th>\n",
       "      <td>297941800658812928</td>\n",
       "      <td>'The #IPLauction has begun. Ricky Ponting is t...</td>\n",
       "    </tr>\n",
       "    <tr>\n",
       "      <th>...</th>\n",
       "      <td>...</td>\n",
       "      <td>...</td>\n",
       "    </tr>\n",
       "    <tr>\n",
       "      <th>2605</th>\n",
       "      <td>282023761044189184</td>\n",
       "      <td>'Qualifier 1 and Eliminator games will be play...</td>\n",
       "    </tr>\n",
       "    <tr>\n",
       "      <th>2606</th>\n",
       "      <td>303879735006601216</td>\n",
       "      <td>@reesedward Hi Edward, it's not a #peacekeepin...</td>\n",
       "    </tr>\n",
       "    <tr>\n",
       "      <th>2607</th>\n",
       "      <td>297956846046703616</td>\n",
       "      <td>'Perera was @SunRisersIPL first #IPL purchase ...</td>\n",
       "    </tr>\n",
       "    <tr>\n",
       "      <th>2608</th>\n",
       "      <td>304265049537658880</td>\n",
       "      <td>'#SecKerry: Thanks to Senator @TimKaine, @RepR...</td>\n",
       "    </tr>\n",
       "    <tr>\n",
       "      <th>2609</th>\n",
       "      <td>306430391928115200</td>\n",
       "      <td>Here's a picture from our official Pinterest a...</td>\n",
       "    </tr>\n",
       "  </tbody>\n",
       "</table>\n",
       "<p>2610 rows × 2 columns</p>\n",
       "</div>"
      ],
      "text/plain": [
       "                 TweetId                                          TweetText\n",
       "0     306486520121012224  '28. The home side threaten again through Maso...\n",
       "1     286353402605228032  '@mrbrown @aulia Thx for asking. See http://t....\n",
       "2     289531046037438464  '@Sochi2014 construction along the shores of t...\n",
       "3     306451661403062273  '#SecKerry\\u2019s remarks after meeting with F...\n",
       "4     297941800658812928  'The #IPLauction has begun. Ricky Ponting is t...\n",
       "...                  ...                                                ...\n",
       "2605  282023761044189184  'Qualifier 1 and Eliminator games will be play...\n",
       "2606  303879735006601216  @reesedward Hi Edward, it's not a #peacekeepin...\n",
       "2607  297956846046703616  'Perera was @SunRisersIPL first #IPL purchase ...\n",
       "2608  304265049537658880  '#SecKerry: Thanks to Senator @TimKaine, @RepR...\n",
       "2609  306430391928115200  Here's a picture from our official Pinterest a...\n",
       "\n",
       "[2610 rows x 2 columns]"
      ]
     },
     "execution_count": 10,
     "metadata": {},
     "output_type": "execute_result"
    }
   ],
   "source": [
    "test_dataset = pd.read_csv(\"../test.csv\")\n",
    "test_dataset"
   ]
  },
  {
   "cell_type": "markdown",
   "metadata": {},
   "source": [
    "# Clean dataset"
   ]
  },
  {
   "cell_type": "code",
   "execution_count": 11,
   "metadata": {},
   "outputs": [
    {
     "name": "stderr",
     "output_type": "stream",
     "text": [
      "[nltk_data] Downloading package omw-1.4 to\n",
      "[nltk_data]     C:\\Users\\dell\\AppData\\Roaming\\nltk_data...\n",
      "[nltk_data]   Package omw-1.4 is already up-to-date!\n",
      "[nltk_data] Downloading package wordnet to\n",
      "[nltk_data]     C:\\Users\\dell\\AppData\\Roaming\\nltk_data...\n",
      "[nltk_data]   Package wordnet is already up-to-date!\n",
      "[nltk_data] Downloading package stopwords to\n",
      "[nltk_data]     C:\\Users\\dell\\AppData\\Roaming\\nltk_data...\n",
      "[nltk_data]   Package stopwords is already up-to-date!\n",
      "[nltk_data] Downloading package punkt to\n",
      "[nltk_data]     C:\\Users\\dell\\AppData\\Roaming\\nltk_data...\n",
      "[nltk_data]   Package punkt is already up-to-date!\n"
     ]
    }
   ],
   "source": [
    "from nltk.tokenize import TweetTokenizer\n",
    "from nltk.stem.wordnet import WordNetLemmatizer\n",
    "lem = WordNetLemmatizer()\n",
    "import nltk\n",
    "nltk.download('omw-1.4')\n",
    "\n",
    "nltk.download('wordnet')\n",
    "nltk.download('stopwords')\n",
    "nltk.download('punkt')\n",
    "stop_words = nltk.corpus.stopwords.words(['english'])"
   ]
  },
  {
   "cell_type": "code",
   "execution_count": 12,
   "metadata": {},
   "outputs": [],
   "source": [
    "def cleaned(data):\n",
    "    \n",
    "    tweet= re.sub(r'http\\S+',' ', data) #remove urls\n",
    "\n",
    "    \n",
    "    tweet= re.sub(r'#\\w+', ' ', tweet)  #remove hashtags\n",
    "\n",
    "    #3. Remove mentions and characters that not in the English alphabets\n",
    "    tweet = re.sub(r'@\\w+',' ', tweet)\n",
    "    precleaned_tweet = re.sub('[^A-Za-z]+', ' ', tweet)\n",
    "\n",
    "    \n",
    "    tweet = TweetTokenizer().tokenize(precleaned_tweet)  #2. Tokenize\n",
    "\n",
    "    \n",
    "    tokens = [w for w in tweet if w.isalpha()]  #3. Remove Puncs\n",
    "\n",
    "    \n",
    "    tokens = [t for t in tokens if t not in stop_words]  #4. Removing Stopwords\n",
    "\n",
    "    \n",
    "    text_cleaned = [lem.lemmatize(t) for t in tokens]  #5. lemma\n",
    "\n",
    "    \n",
    "    return \" \".join(text_cleaned)  #6. Joining\n",
    "\n",
    "train_dataset['TweetTextCleaned'] = train_dataset['TweetText'].apply(cleaned)"
   ]
  },
  {
   "cell_type": "code",
   "execution_count": 13,
   "metadata": {},
   "outputs": [
    {
     "data": {
      "text/html": [
       "<div>\n",
       "<style scoped>\n",
       "    .dataframe tbody tr th:only-of-type {\n",
       "        vertical-align: middle;\n",
       "    }\n",
       "\n",
       "    .dataframe tbody tr th {\n",
       "        vertical-align: top;\n",
       "    }\n",
       "\n",
       "    .dataframe thead th {\n",
       "        text-align: right;\n",
       "    }\n",
       "</style>\n",
       "<table border=\"1\" class=\"dataframe\">\n",
       "  <thead>\n",
       "    <tr style=\"text-align: right;\">\n",
       "      <th></th>\n",
       "      <th>TweetId</th>\n",
       "      <th>Label</th>\n",
       "      <th>TweetText</th>\n",
       "      <th>TweetTextCleaned</th>\n",
       "    </tr>\n",
       "  </thead>\n",
       "  <tbody>\n",
       "    <tr>\n",
       "      <th>0</th>\n",
       "      <td>304271250237304833</td>\n",
       "      <td>Politics</td>\n",
       "      <td>'#SecKerry: The value of the @StateDept and @U...</td>\n",
       "      <td>The value measured dollar term deepest America...</td>\n",
       "    </tr>\n",
       "    <tr>\n",
       "      <th>1</th>\n",
       "      <td>304834304222064640</td>\n",
       "      <td>Politics</td>\n",
       "      <td>'@rraina1481 I fear so'</td>\n",
       "      <td>I fear</td>\n",
       "    </tr>\n",
       "    <tr>\n",
       "      <th>2</th>\n",
       "      <td>303568995880144898</td>\n",
       "      <td>Sports</td>\n",
       "      <td>'Watch video highlights of the #wwc13 final be...</td>\n",
       "      <td>Watch video highlight final Australia West Indies</td>\n",
       "    </tr>\n",
       "    <tr>\n",
       "      <th>3</th>\n",
       "      <td>304366580664528896</td>\n",
       "      <td>Sports</td>\n",
       "      <td>'RT @chelscanlan: At Nitro Circus at #AlbertPa...</td>\n",
       "      <td>RT At Nitro Circus</td>\n",
       "    </tr>\n",
       "    <tr>\n",
       "      <th>4</th>\n",
       "      <td>296770931098009601</td>\n",
       "      <td>Sports</td>\n",
       "      <td>'@cricketfox Always a good thing. Thanks for t...</td>\n",
       "      <td>Always good thing Thanks feedback</td>\n",
       "    </tr>\n",
       "    <tr>\n",
       "      <th>...</th>\n",
       "      <td>...</td>\n",
       "      <td>...</td>\n",
       "      <td>...</td>\n",
       "      <td>...</td>\n",
       "    </tr>\n",
       "    <tr>\n",
       "      <th>6520</th>\n",
       "      <td>296675082267410433</td>\n",
       "      <td>Politics</td>\n",
       "      <td>'Photo: PM has laid a wreath at Martyrs Monume...</td>\n",
       "      <td>Photo PM laid wreath Martyrs Monument Algiers</td>\n",
       "    </tr>\n",
       "    <tr>\n",
       "      <th>6521</th>\n",
       "      <td>306677536195231746</td>\n",
       "      <td>Sports</td>\n",
       "      <td>'The secret of the Chennai pitch - crumbling o...</td>\n",
       "      <td>The secret Chennai pitch crumbling edge solid ...</td>\n",
       "    </tr>\n",
       "    <tr>\n",
       "      <th>6522</th>\n",
       "      <td>306451295307431937</td>\n",
       "      <td>Sports</td>\n",
       "      <td>@alinabhutto he isn't on Twitter either</td>\n",
       "      <td>Twitter either</td>\n",
       "    </tr>\n",
       "    <tr>\n",
       "      <th>6523</th>\n",
       "      <td>306088574221176832</td>\n",
       "      <td>Sports</td>\n",
       "      <td>'Which England player would you take out to di...</td>\n",
       "      <td>Which England player would take dinner Featuri...</td>\n",
       "    </tr>\n",
       "    <tr>\n",
       "      <th>6524</th>\n",
       "      <td>277090953242759169</td>\n",
       "      <td>Politics</td>\n",
       "      <td>'Dmitry #Medvedev expressed condolences to the...</td>\n",
       "      <td>Dmitry expressed condolence family friend coll...</td>\n",
       "    </tr>\n",
       "  </tbody>\n",
       "</table>\n",
       "<p>6525 rows × 4 columns</p>\n",
       "</div>"
      ],
      "text/plain": [
       "                 TweetId     Label  \\\n",
       "0     304271250237304833  Politics   \n",
       "1     304834304222064640  Politics   \n",
       "2     303568995880144898    Sports   \n",
       "3     304366580664528896    Sports   \n",
       "4     296770931098009601    Sports   \n",
       "...                  ...       ...   \n",
       "6520  296675082267410433  Politics   \n",
       "6521  306677536195231746    Sports   \n",
       "6522  306451295307431937    Sports   \n",
       "6523  306088574221176832    Sports   \n",
       "6524  277090953242759169  Politics   \n",
       "\n",
       "                                              TweetText  \\\n",
       "0     '#SecKerry: The value of the @StateDept and @U...   \n",
       "1                               '@rraina1481 I fear so'   \n",
       "2     'Watch video highlights of the #wwc13 final be...   \n",
       "3     'RT @chelscanlan: At Nitro Circus at #AlbertPa...   \n",
       "4     '@cricketfox Always a good thing. Thanks for t...   \n",
       "...                                                 ...   \n",
       "6520  'Photo: PM has laid a wreath at Martyrs Monume...   \n",
       "6521  'The secret of the Chennai pitch - crumbling o...   \n",
       "6522            @alinabhutto he isn't on Twitter either   \n",
       "6523  'Which England player would you take out to di...   \n",
       "6524  'Dmitry #Medvedev expressed condolences to the...   \n",
       "\n",
       "                                       TweetTextCleaned  \n",
       "0     The value measured dollar term deepest America...  \n",
       "1                                                I fear  \n",
       "2     Watch video highlight final Australia West Indies  \n",
       "3                                    RT At Nitro Circus  \n",
       "4                     Always good thing Thanks feedback  \n",
       "...                                                 ...  \n",
       "6520      Photo PM laid wreath Martyrs Monument Algiers  \n",
       "6521  The secret Chennai pitch crumbling edge solid ...  \n",
       "6522                                     Twitter either  \n",
       "6523  Which England player would take dinner Featuri...  \n",
       "6524  Dmitry expressed condolence family friend coll...  \n",
       "\n",
       "[6525 rows x 4 columns]"
      ]
     },
     "execution_count": 13,
     "metadata": {},
     "output_type": "execute_result"
    }
   ],
   "source": [
    "train_dataset"
   ]
  },
  {
   "cell_type": "code",
   "execution_count": 14,
   "metadata": {},
   "outputs": [
    {
     "data": {
      "text/plain": [
       "Label\n",
       "Politics    3200\n",
       "Sports      3325\n",
       "Name: TweetId, dtype: int64"
      ]
     },
     "execution_count": 14,
     "metadata": {},
     "output_type": "execute_result"
    }
   ],
   "source": [
    "result = train_dataset.groupby('Label')['TweetId'].nunique()\n",
    "result"
   ]
  },
  {
   "cell_type": "markdown",
   "metadata": {},
   "source": [
    "# Encoding feature label"
   ]
  },
  {
   "cell_type": "code",
   "execution_count": 15,
   "metadata": {},
   "outputs": [],
   "source": [
    "label_enc = {\"Label\":     {\"Sports\": 0, \"Politics\": 1}}\n",
    "train_data = train_dataset.replace(label_enc)\n"
   ]
  },
  {
   "cell_type": "code",
   "execution_count": 16,
   "metadata": {},
   "outputs": [
    {
     "data": {
      "text/html": [
       "<div>\n",
       "<style scoped>\n",
       "    .dataframe tbody tr th:only-of-type {\n",
       "        vertical-align: middle;\n",
       "    }\n",
       "\n",
       "    .dataframe tbody tr th {\n",
       "        vertical-align: top;\n",
       "    }\n",
       "\n",
       "    .dataframe thead th {\n",
       "        text-align: right;\n",
       "    }\n",
       "</style>\n",
       "<table border=\"1\" class=\"dataframe\">\n",
       "  <thead>\n",
       "    <tr style=\"text-align: right;\">\n",
       "      <th></th>\n",
       "      <th>TweetId</th>\n",
       "      <th>Label</th>\n",
       "      <th>TweetText</th>\n",
       "      <th>TweetTextCleaned</th>\n",
       "    </tr>\n",
       "  </thead>\n",
       "  <tbody>\n",
       "    <tr>\n",
       "      <th>0</th>\n",
       "      <td>304271250237304833</td>\n",
       "      <td>1</td>\n",
       "      <td>'#SecKerry: The value of the @StateDept and @U...</td>\n",
       "      <td>The value measured dollar term deepest America...</td>\n",
       "    </tr>\n",
       "    <tr>\n",
       "      <th>1</th>\n",
       "      <td>304834304222064640</td>\n",
       "      <td>1</td>\n",
       "      <td>'@rraina1481 I fear so'</td>\n",
       "      <td>I fear</td>\n",
       "    </tr>\n",
       "    <tr>\n",
       "      <th>2</th>\n",
       "      <td>303568995880144898</td>\n",
       "      <td>0</td>\n",
       "      <td>'Watch video highlights of the #wwc13 final be...</td>\n",
       "      <td>Watch video highlight final Australia West Indies</td>\n",
       "    </tr>\n",
       "    <tr>\n",
       "      <th>3</th>\n",
       "      <td>304366580664528896</td>\n",
       "      <td>0</td>\n",
       "      <td>'RT @chelscanlan: At Nitro Circus at #AlbertPa...</td>\n",
       "      <td>RT At Nitro Circus</td>\n",
       "    </tr>\n",
       "    <tr>\n",
       "      <th>4</th>\n",
       "      <td>296770931098009601</td>\n",
       "      <td>0</td>\n",
       "      <td>'@cricketfox Always a good thing. Thanks for t...</td>\n",
       "      <td>Always good thing Thanks feedback</td>\n",
       "    </tr>\n",
       "    <tr>\n",
       "      <th>...</th>\n",
       "      <td>...</td>\n",
       "      <td>...</td>\n",
       "      <td>...</td>\n",
       "      <td>...</td>\n",
       "    </tr>\n",
       "    <tr>\n",
       "      <th>6520</th>\n",
       "      <td>296675082267410433</td>\n",
       "      <td>1</td>\n",
       "      <td>'Photo: PM has laid a wreath at Martyrs Monume...</td>\n",
       "      <td>Photo PM laid wreath Martyrs Monument Algiers</td>\n",
       "    </tr>\n",
       "    <tr>\n",
       "      <th>6521</th>\n",
       "      <td>306677536195231746</td>\n",
       "      <td>0</td>\n",
       "      <td>'The secret of the Chennai pitch - crumbling o...</td>\n",
       "      <td>The secret Chennai pitch crumbling edge solid ...</td>\n",
       "    </tr>\n",
       "    <tr>\n",
       "      <th>6522</th>\n",
       "      <td>306451295307431937</td>\n",
       "      <td>0</td>\n",
       "      <td>@alinabhutto he isn't on Twitter either</td>\n",
       "      <td>Twitter either</td>\n",
       "    </tr>\n",
       "    <tr>\n",
       "      <th>6523</th>\n",
       "      <td>306088574221176832</td>\n",
       "      <td>0</td>\n",
       "      <td>'Which England player would you take out to di...</td>\n",
       "      <td>Which England player would take dinner Featuri...</td>\n",
       "    </tr>\n",
       "    <tr>\n",
       "      <th>6524</th>\n",
       "      <td>277090953242759169</td>\n",
       "      <td>1</td>\n",
       "      <td>'Dmitry #Medvedev expressed condolences to the...</td>\n",
       "      <td>Dmitry expressed condolence family friend coll...</td>\n",
       "    </tr>\n",
       "  </tbody>\n",
       "</table>\n",
       "<p>6525 rows × 4 columns</p>\n",
       "</div>"
      ],
      "text/plain": [
       "                 TweetId  Label  \\\n",
       "0     304271250237304833      1   \n",
       "1     304834304222064640      1   \n",
       "2     303568995880144898      0   \n",
       "3     304366580664528896      0   \n",
       "4     296770931098009601      0   \n",
       "...                  ...    ...   \n",
       "6520  296675082267410433      1   \n",
       "6521  306677536195231746      0   \n",
       "6522  306451295307431937      0   \n",
       "6523  306088574221176832      0   \n",
       "6524  277090953242759169      1   \n",
       "\n",
       "                                              TweetText  \\\n",
       "0     '#SecKerry: The value of the @StateDept and @U...   \n",
       "1                               '@rraina1481 I fear so'   \n",
       "2     'Watch video highlights of the #wwc13 final be...   \n",
       "3     'RT @chelscanlan: At Nitro Circus at #AlbertPa...   \n",
       "4     '@cricketfox Always a good thing. Thanks for t...   \n",
       "...                                                 ...   \n",
       "6520  'Photo: PM has laid a wreath at Martyrs Monume...   \n",
       "6521  'The secret of the Chennai pitch - crumbling o...   \n",
       "6522            @alinabhutto he isn't on Twitter either   \n",
       "6523  'Which England player would you take out to di...   \n",
       "6524  'Dmitry #Medvedev expressed condolences to the...   \n",
       "\n",
       "                                       TweetTextCleaned  \n",
       "0     The value measured dollar term deepest America...  \n",
       "1                                                I fear  \n",
       "2     Watch video highlight final Australia West Indies  \n",
       "3                                    RT At Nitro Circus  \n",
       "4                     Always good thing Thanks feedback  \n",
       "...                                                 ...  \n",
       "6520      Photo PM laid wreath Martyrs Monument Algiers  \n",
       "6521  The secret Chennai pitch crumbling edge solid ...  \n",
       "6522                                     Twitter either  \n",
       "6523  Which England player would take dinner Featuri...  \n",
       "6524  Dmitry expressed condolence family friend coll...  \n",
       "\n",
       "[6525 rows x 4 columns]"
      ]
     },
     "execution_count": 16,
     "metadata": {},
     "output_type": "execute_result"
    }
   ],
   "source": [
    "train_data"
   ]
  },
  {
   "cell_type": "markdown",
   "metadata": {},
   "source": [
    "# Sample stratification"
   ]
  },
  {
   "cell_type": "code",
   "execution_count": 17,
   "metadata": {},
   "outputs": [],
   "source": [
    "sss = StratifiedShuffleSplit(n_splits=1, test_size=0.2, random_state=42)\n",
    "\n",
    "X = train_data['TweetTextCleaned'].to_numpy()\n",
    "y = train_data['Label'].to_numpy()\n",
    "for train_data_index, test_data_index in sss.split(X, y):\n",
    "    \n",
    "    X_train, X_test = X[train_data_index], X[test_data_index]\n",
    "\n",
    "    y_train, y_test = y[train_data_index], y[test_data_index]"
   ]
  },
  {
   "cell_type": "code",
   "execution_count": 18,
   "metadata": {},
   "outputs": [],
   "source": [
    "#function pipeline\n",
    "tweets_pipe = Pipeline([('CVec', CountVectorizer(stop_words='english')),\n",
    "                     ('Tfidf', TfidfTransformer())])\n",
    "\n",
    "X_train_tranformed = tweets_pipe.fit_transform(X_train)\n",
    "\n",
    "X_test_tranformed = tweets_pipe.transform(X_test)"
   ]
  },
  {
   "cell_type": "markdown",
   "metadata": {},
   "source": [
    "# Model RidgeClassifier"
   ]
  },
  {
   "cell_type": "code",
   "execution_count": 33,
   "metadata": {},
   "outputs": [],
   "source": [
    "#Classifiers : Supervised Machine Learning Algorithms\n",
    "classifiers = {\n",
    "    'RidgeClassifier': RidgeClassifier(class_weight='balanced')\n",
    "}"
   ]
  },
  {
   "cell_type": "markdown",
   "metadata": {},
   "source": [
    "# Model Evaluation"
   ]
  },
  {
   "cell_type": "code",
   "execution_count": 20,
   "metadata": {},
   "outputs": [],
   "source": [
    "no_classifiers = len(classifiers.keys())\n",
    "\n",
    "from time import process_time \n",
    "\n",
    "#Results\n",
    "def batch_classify(X_train_tranformed, y_train, X_test_tranformed, y_test, verbose = True):\n",
    "    df_results = pd.DataFrame(data=np.zeros(shape=(no_classifiers,3)), columns = ['Classifier', 'Area Under Curve', 'Training time'])\n",
    "    count = 0\n",
    "    for key, classifier in classifiers.items():\n",
    "        t_start = process_time()  \n",
    "        classifier.fit(X_train_tranformed, y_train)\n",
    "        t_stop = process_time() \n",
    "        t_elapsed = t_stop - t_start\n",
    "        y_predicted = classifier.predict(X_test_tranformed)\n",
    "        \n",
    "        df_results.loc[count,'Classifier'] = key\n",
    "        df_results.loc[count,'Area Under Curve'] = roc_auc_score(y_test, y_predicted)\n",
    "        df_results.loc[count,'Training time'] = t_elapsed\n",
    "        if verbose:\n",
    "            print(\"trained {c} in {f:.2f} s\".format(c=key, f=t_elapsed))\n",
    "        count+=1\n",
    "\n",
    "    return df_results\n"
   ]
  },
  {
   "cell_type": "code",
   "execution_count": 21,
   "metadata": {},
   "outputs": [
    {
     "name": "stdout",
     "output_type": "stream",
     "text": [
      "trained RidgeClassifier in 0.09 s\n",
      "        Classifier  Area Under Curve  Training time\n",
      "0  RidgeClassifier          0.913939        0.09375\n"
     ]
    }
   ],
   "source": [
    "\n",
    "df_results = batch_classify(X_train_tranformed, y_train,X_test_tranformed, y_test)\n",
    "print(df_results.sort_values(by='Area Under Curve', ascending=False))"
   ]
  },
  {
   "cell_type": "code",
   "execution_count": 22,
   "metadata": {},
   "outputs": [],
   "source": [
    "\n",
    "test_dataset['cleaned'] = test_dataset['TweetText'].apply(lambda x : cleaned(x))\n",
    "cleanup_nums = {\"Label\":     {\"Politics\": 0, \"Sports\": 1}}\n",
    "test = test_dataset.replace(cleanup_nums)"
   ]
  },
  {
   "cell_type": "code",
   "execution_count": 23,
   "metadata": {},
   "outputs": [],
   "source": [
    "x = test_dataset['cleaned'].to_numpy()\n"
   ]
  },
  {
   "cell_type": "code",
   "execution_count": 24,
   "metadata": {},
   "outputs": [],
   "source": [
    "x_test_tranformed = tweets_pipe.transform(x)"
   ]
  },
  {
   "cell_type": "markdown",
   "metadata": {},
   "source": [
    "# Predictions"
   ]
  },
  {
   "cell_type": "code",
   "execution_count": 25,
   "metadata": {},
   "outputs": [
    {
     "data": {
      "text/plain": [
       "array([0, 0, 1, ..., 0, 0, 0], dtype=int64)"
      ]
     },
     "execution_count": 25,
     "metadata": {},
     "output_type": "execute_result"
    }
   ],
   "source": [
    "Classifier = RidgeClassifier()\n",
    "Classifier.fit(X_train_tranformed, y_train)\n",
    "y_predicted = Classifier.predict(x_test_tranformed)\n",
    "y_predicted\n",
    "\n",
    "\n"
   ]
  },
  {
   "cell_type": "code",
   "execution_count": 26,
   "metadata": {},
   "outputs": [
    {
     "data": {
      "text/plain": [
       "0       0\n",
       "1       0\n",
       "2       1\n",
       "3       1\n",
       "4       0\n",
       "       ..\n",
       "2605    0\n",
       "2606    0\n",
       "2607    0\n",
       "2608    0\n",
       "2609    0\n",
       "Name: Label, Length: 2610, dtype: int32"
      ]
     },
     "execution_count": 26,
     "metadata": {},
     "output_type": "execute_result"
    }
   ],
   "source": [
    "test_result = pd.Series(y_predicted, name = \"Label\").astype(int)\n",
    "test_result"
   ]
  },
  {
   "cell_type": "markdown",
   "metadata": {},
   "source": [
    "# Import results to a csv file"
   ]
  },
  {
   "cell_type": "code",
   "execution_count": 27,
   "metadata": {},
   "outputs": [],
   "source": [
    "results = pd.concat([test_dataset[\"TweetId\"], test_result],axis = 1)\n",
    "cleanup_nums = {\"Label\":     {0: \"Politics\", 1: \"Sports\"}}\n",
    "results = results.replace(cleanup_nums)\n",
    "results.to_csv(\"tweet_sub.csv\", index = False)"
   ]
  },
  {
   "cell_type": "code",
   "execution_count": 28,
   "metadata": {},
   "outputs": [],
   "source": [
    "tweet_sub_df = pd.read_csv(\"tweet_sub.csv\")"
   ]
  },
  {
   "cell_type": "code",
   "execution_count": 31,
   "metadata": {},
   "outputs": [
    {
     "data": {
      "text/html": [
       "<div>\n",
       "<style scoped>\n",
       "    .dataframe tbody tr th:only-of-type {\n",
       "        vertical-align: middle;\n",
       "    }\n",
       "\n",
       "    .dataframe tbody tr th {\n",
       "        vertical-align: top;\n",
       "    }\n",
       "\n",
       "    .dataframe thead th {\n",
       "        text-align: right;\n",
       "    }\n",
       "</style>\n",
       "<table border=\"1\" class=\"dataframe\">\n",
       "  <thead>\n",
       "    <tr style=\"text-align: right;\">\n",
       "      <th></th>\n",
       "      <th>TweetId</th>\n",
       "      <th>Label</th>\n",
       "    </tr>\n",
       "  </thead>\n",
       "  <tbody>\n",
       "    <tr>\n",
       "      <th>176</th>\n",
       "      <td>299927809575489538</td>\n",
       "      <td>Politics</td>\n",
       "    </tr>\n",
       "    <tr>\n",
       "      <th>759</th>\n",
       "      <td>302770438919032832</td>\n",
       "      <td>Politics</td>\n",
       "    </tr>\n",
       "    <tr>\n",
       "      <th>2571</th>\n",
       "      <td>306020037360226304</td>\n",
       "      <td>Politics</td>\n",
       "    </tr>\n",
       "    <tr>\n",
       "      <th>39</th>\n",
       "      <td>304762492746334208</td>\n",
       "      <td>Sports</td>\n",
       "    </tr>\n",
       "    <tr>\n",
       "      <th>1800</th>\n",
       "      <td>8044797677</td>\n",
       "      <td>Sports</td>\n",
       "    </tr>\n",
       "    <tr>\n",
       "      <th>1027</th>\n",
       "      <td>297964022899302400</td>\n",
       "      <td>Politics</td>\n",
       "    </tr>\n",
       "    <tr>\n",
       "      <th>1231</th>\n",
       "      <td>234581252383051777</td>\n",
       "      <td>Politics</td>\n",
       "    </tr>\n",
       "    <tr>\n",
       "      <th>382</th>\n",
       "      <td>299194441464426497</td>\n",
       "      <td>Politics</td>\n",
       "    </tr>\n",
       "    <tr>\n",
       "      <th>2090</th>\n",
       "      <td>301998719811862528</td>\n",
       "      <td>Politics</td>\n",
       "    </tr>\n",
       "    <tr>\n",
       "      <th>1868</th>\n",
       "      <td>234725025268264961</td>\n",
       "      <td>Politics</td>\n",
       "    </tr>\n",
       "  </tbody>\n",
       "</table>\n",
       "</div>"
      ],
      "text/plain": [
       "                 TweetId     Label\n",
       "176   299927809575489538  Politics\n",
       "759   302770438919032832  Politics\n",
       "2571  306020037360226304  Politics\n",
       "39    304762492746334208    Sports\n",
       "1800          8044797677    Sports\n",
       "1027  297964022899302400  Politics\n",
       "1231  234581252383051777  Politics\n",
       "382   299194441464426497  Politics\n",
       "2090  301998719811862528  Politics\n",
       "1868  234725025268264961  Politics"
      ]
     },
     "execution_count": 31,
     "metadata": {},
     "output_type": "execute_result"
    }
   ],
   "source": [
    "tweet_sub_df.sample(10)"
   ]
  },
  {
   "cell_type": "code",
   "execution_count": 32,
   "metadata": {},
   "outputs": [
    {
     "data": {
      "text/plain": [
       "Label\n",
       "Politics    1495\n",
       "Sports      1115\n",
       "Name: TweetId, dtype: int64"
      ]
     },
     "execution_count": 32,
     "metadata": {},
     "output_type": "execute_result"
    }
   ],
   "source": [
    "resultt = tweet_sub_df.groupby('Label')['TweetId'].nunique()\n",
    "resultt"
   ]
  },
  {
   "cell_type": "markdown",
   "metadata": {},
   "source": [
    "# End"
   ]
  }
 ],
 "metadata": {
  "kernelspec": {
   "display_name": "Python 3 (ipykernel)",
   "language": "python",
   "name": "python3"
  },
  "language_info": {
   "codemirror_mode": {
    "name": "ipython",
    "version": 3
   },
   "file_extension": ".py",
   "mimetype": "text/x-python",
   "name": "python",
   "nbconvert_exporter": "python",
   "pygments_lexer": "ipython3",
   "version": "3.9.12"
  }
 },
 "nbformat": 4,
 "nbformat_minor": 4
}
